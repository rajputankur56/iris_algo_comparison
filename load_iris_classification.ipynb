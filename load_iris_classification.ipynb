{
  "nbformat": 4,
  "nbformat_minor": 0,
  "metadata": {
    "colab": {
      "name": "load_iris_classification.ipynb",
      "provenance": [],
      "collapsed_sections": [],
      "authorship_tag": "ABX9TyOLNpImETyo59fVAExQK2KR",
      "include_colab_link": true
    },
    "kernelspec": {
      "name": "python3",
      "display_name": "Python 3"
    }
  },
  "cells": [
    {
      "cell_type": "markdown",
      "metadata": {
        "id": "view-in-github",
        "colab_type": "text"
      },
      "source": [
        "<a href=\"https://colab.research.google.com/github/rajputankur56/iris_algo_comparison/blob/master/load_iris_classification.ipynb\" target=\"_parent\"><img src=\"https://colab.research.google.com/assets/colab-badge.svg\" alt=\"Open In Colab\"/></a>"
      ]
    },
    {
      "cell_type": "code",
      "metadata": {
        "id": "6mHp3IJ6FJE7",
        "colab_type": "code",
        "colab": {}
      },
      "source": [
        "from sklearn.datasets import load_iris\n",
        "import pandas as pd\n",
        "import numpy as np\n",
        "from sklearn.model_selection import train_test_split\n",
        "from sklearn.metrics import confusion_matrix\n",
        "from sklearn import svm"
      ],
      "execution_count": null,
      "outputs": []
    },
    {
      "cell_type": "code",
      "metadata": {
        "id": "1L84X3MzFR9N",
        "colab_type": "code",
        "colab": {}
      },
      "source": [
        "iris=load_iris()\n",
        "X = iris.data\n",
        "Y = iris.target"
      ],
      "execution_count": null,
      "outputs": []
    },
    {
      "cell_type": "code",
      "metadata": {
        "id": "Pgc50ov0MmE-",
        "colab_type": "code",
        "colab": {}
      },
      "source": [
        "X_train,X_test,Y_train,Y_test =  train_test_split(X,Y,train_size = 0.2,random_state = 10)"
      ],
      "execution_count": null,
      "outputs": []
    },
    {
      "cell_type": "code",
      "metadata": {
        "id": "8ottFSCLM6xm",
        "colab_type": "code",
        "colab": {}
      },
      "source": [
        "lin_model = svm.SVC(kernel = 'linear',C = 1,decision_function_shape='ovo').fit(X_train,Y_train)\n",
        "\n",
        "rbf_model = svm.SVC(kernel = 'rbf',gamma = 1,C=1,decision_function_shape='ovo').fit(X_train,Y_train)\n",
        "\n",
        "poly_model = svm.SVC(kernel = 'poly',degree=3,C=1,decision_function_shape='ovo').fit(X_train,Y_train)\n",
        "\n",
        "sigmoid_model = svm.SVC(kernel = 'sigmoid',C=1,decision_function_shape='ovo').fit(X_train,Y_train)"
      ],
      "execution_count": null,
      "outputs": []
    },
    {
      "cell_type": "code",
      "metadata": {
        "id": "XszVdazSPCnJ",
        "colab_type": "code",
        "colab": {
          "base_uri": "https://localhost:8080/",
          "height": 125
        },
        "outputId": "28fc5e02-13d6-4a48-9e0b-4bb313028bb5"
      },
      "source": [
        "lin_pred = lin_model.predict(X_test)\n",
        "rbf_pred = rbf_model.predict(X_test)\n",
        "poly_pred = poly_model.predict(X_test)\n",
        "sigmoid_pred = sigmoid_model.predict(X_test)"
      ],
      "execution_count": null,
      "outputs": [
        {
          "output_type": "execute_result",
          "data": {
            "text/plain": [
              "array([1, 2, 0, 1, 0, 1, 1, 1, 0, 1, 1, 2, 1, 0, 0, 2, 1, 0, 0, 0, 2, 2,\n",
              "       2, 0, 1, 0, 1, 1, 1, 2, 1, 1, 2, 2, 2, 0, 2, 2, 2, 2, 0, 0, 1, 0,\n",
              "       1, 0, 1, 2, 2, 2, 1, 2, 1, 1, 1, 0, 0, 1, 0, 2, 0, 0, 2, 1, 2, 0,\n",
              "       2, 0, 1, 2, 0, 2, 2, 2, 2, 1, 0, 1, 2, 1, 0, 2, 1, 1, 0, 0, 0, 1,\n",
              "       2, 2, 1, 0, 0, 0, 2, 2, 1, 1, 2, 2, 2, 2, 1, 0, 0, 1, 0, 0, 2, 1,\n",
              "       0, 0, 0, 1, 0, 1, 0, 1, 2, 0])"
            ]
          },
          "metadata": {
            "tags": []
          },
          "execution_count": 6
        }
      ]
    },
    {
      "cell_type": "code",
      "metadata": {
        "id": "i9zvAL0uQ2od",
        "colab_type": "code",
        "colab": {
          "base_uri": "https://localhost:8080/",
          "height": 89
        },
        "outputId": "1651a0f7-ded3-4589-88db-a10e3d0c7906"
      },
      "source": [
        "lin_score = lin_model.score(X_test,Y_test)\n",
        "rbf_score = rbf_model.score(X_test,Y_test)\n",
        "poly_score = poly_model.score(X_test,Y_test)\n",
        "sigmoid_score = sigmoid_model.score(X_test,Y_test)\n",
        "\n",
        "print(\"Accuracy of Linear SVC --> \",lin_score)\n",
        "print(\"Accuracy of RBF SVC --> \",rbf_score)\n",
        "print(\"Accuracy of poly SVC --> \",poly_score)\n",
        "print(\"Accuracy of Sigmoid SVC --> \",sigmoid_score)"
      ],
      "execution_count": null,
      "outputs": [
        {
          "output_type": "stream",
          "text": [
            "Accuracy of Linear SVC -->  0.975\n",
            "Accuracy of RBF SVC -->  0.975\n",
            "Accuracy of poly SVC -->  0.9666666666666667\n",
            "Accuracy of Sigmoid SVC -->  0.31666666666666665\n"
          ],
          "name": "stdout"
        }
      ]
    },
    {
      "cell_type": "code",
      "metadata": {
        "id": "lBuz_RYsSsCr",
        "colab_type": "code",
        "colab": {}
      },
      "source": [
        "from sklearn.tree import DecisionTreeClassifier\n",
        "from sklearn.naive_bayes import BernoulliNB\n",
        "from sklearn.ensemble import RandomForestClassifier\n",
        "from sklearn.svm import LinearSVC\n",
        "from sklearn.linear_model import RidgeClassifier\n",
        "from sklearn.linear_model import RidgeClassifierCV"
      ],
      "execution_count": null,
      "outputs": []
    },
    {
      "cell_type": "code",
      "metadata": {
        "id": "8zsFdjQFT1u7",
        "colab_type": "code",
        "colab": {
          "base_uri": "https://localhost:8080/",
          "height": 53
        },
        "outputId": "7ac46e80-f340-4f02-f61c-d539a2b72024"
      },
      "source": [
        "DT_reg = DecisionTreeClassifier(max_depth=5).fit(X_train,Y_train)\n",
        "Ber_reg  = BernoulliNB(alpha=1,binarize=0.0).fit(X_train,Y_train)\n",
        "RT_reg = RandomForestClassifier(n_estimators=10,max_depth=5).fit(X_train,Y_train)\n",
        "linSVC_reg = LinearSVC().fit(X_train,Y_train)\n",
        "ridge_reg = RidgeClassifier(alpha = 1.0).fit(X_train,Y_train)\n",
        "ridgecv_reg = RidgeClassifierCV(alphas = (0.1,1.0,10)).fit(X_train,Y_train)"
      ],
      "execution_count": null,
      "outputs": [
        {
          "output_type": "stream",
          "text": [
            "/usr/local/lib/python3.6/dist-packages/sklearn/svm/_base.py:947: ConvergenceWarning: Liblinear failed to converge, increase the number of iterations.\n",
            "  \"the number of iterations.\", ConvergenceWarning)\n"
          ],
          "name": "stderr"
        }
      ]
    },
    {
      "cell_type": "code",
      "metadata": {
        "id": "yqPVC6p2VSbe",
        "colab_type": "code",
        "colab": {
          "base_uri": "https://localhost:8080/",
          "height": 125
        },
        "outputId": "1faa0e4a-112f-47bb-e574-ffb528aa9ef2"
      },
      "source": [
        "DT_reg_score = DT_reg.score(X_test,Y_test)\n",
        "Ber_reg_score = Ber_reg.score(X_test,Y_test)\n",
        "RT_reg_score = RT_reg.score(X_test,Y_test)\n",
        "linSVC_reg_score = linSVC_reg.score(X_test,Y_test)\n",
        "ridge_reg_score = ridge_reg.score(X_test,Y_test)\n",
        "ridgecv_reg_score = ridgecv_reg.score(X_test,Y_test)\n",
        "\n",
        "print(\"Accuracy of Decision Tree --> \",DT_reg_score)\n",
        "print(\"Accuracy of BernoulliNB --> \",Ber_reg_score)\n",
        "print(\"Accuracy of random forest --> \",RT_reg_score)\n",
        "print(\"Accuracy of Linear SVC --> \",linSVC_reg_score)\n",
        "print(\"Accuracy of ridge regression --> \",ridge_reg_score)\n",
        "print(\"Accuracy of ridgeCV regression --> \",ridgecv_reg_score)"
      ],
      "execution_count": null,
      "outputs": [
        {
          "output_type": "stream",
          "text": [
            "Accuracy of Decision Tree -->  0.95\n",
            "Accuracy of BernoulliNB -->  0.31666666666666665\n",
            "Accuracy of random forest -->  0.95\n",
            "Accuracy of Linear SVC -->  0.9416666666666667\n",
            "Accuracy of ridge regression -->  0.8333333333333334\n",
            "Accuracy of ridgeCV regression -->  0.8333333333333334\n"
          ],
          "name": "stdout"
        }
      ]
    }
  ]
}